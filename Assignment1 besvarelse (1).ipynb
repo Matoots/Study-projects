{
 "cells": [
  {
   "cell_type": "markdown",
   "metadata": {},
   "source": [
    "# Assignment 1 - Part 2\n",
    "\n",
    "<div class=\"alert alert-block alert-warning\">\n",
    "    Below we import <a href=\"https://github.com/HIPS/autograd\">autograd</a>. If you get an error saying you don't have it, you will need to install it with pip, using\n",
    "<pre>\n",
    "pip install autograd\n",
    "</pre>\n",
    "</div>"
   ]
  },
  {
   "cell_type": "code",
   "execution_count": 1,
   "metadata": {},
   "outputs": [],
   "source": [
    "import  autograd.numpy as np\n",
    "import matplotlib.pyplot as plt\n",
    "from autograd import jacobian\n",
    "import time as time\n",
    "import tabulate as tab\n",
    "\n"
   ]
  },
  {
   "cell_type": "markdown",
   "metadata": {},
   "source": [
    "## Newton's Method\n",
    "\n",
    "We want to approximate solutions of nonlinear equation in __two variables__ using Newton's method.\n",
    "\n",
    "Newton's method is implemented below.\n",
    "\n",
    "Implement a stopping criterion. That is, given some tolerance $TOL$, end the method when $\\mathbf{x}^k:=(x_1^k,x_2^k)$ satisfies $\\|F(\\mathbf{x}^k)\\|_2\\le TOL$ or $\\|\\mathbf{x}^{k+1}-\\mathbf{x}^k\\|_2\\le TOL$.\n",
    "\n",
    "Provide numerial evidence that your code works as it should by printing the values of $\\|F(\\mathbf{x}^k)\\|_2$ for each iteration, and by making a plot of $\\|F(\\mathbf{x}^k)\\|_2$, $\\|\\mathbf{x}^{k+1}-\\mathbf{x}^k\\|_2$, for all $k$.\n",
    "\n",
    "Now, verify numerically the convergence is quadratic. You will need a reference solution, and one can do this in two ways:\n",
    "\n",
    " - Consider a problem for which you know an exact solution, and use said solution as a reference solution,\n",
    " - or for your problem, should you not know a solution, use the method to obtain an extremely accurate result which you use as a reference solution"
   ]
  },
  {
   "cell_type": "code",
   "execution_count": 2,
   "metadata": {},
   "outputs": [],
   "source": [
    "def newtonsMethod(F, x0, maxIter, plotvar, TOL=1.0e-15):   #Array valued functions\n",
    "    # Implementation of Newton's root finding method.\n",
    "    # F - the function you wish to find the root for,\n",
    "    # x0 - initial guess,\n",
    "    # maxIter - maximum number of iterations.\n",
    "    # For plotting of graphs, set plotvar = True, else; set plotvar to False\n",
    "    DF = jacobian(F)\n",
    "    x1 = x0\n",
    "    \n",
    "    norm_listFx = np.zeros(maxIter) #List storing norms of fx \n",
    "    norm_listDiff = np.zeros(maxIter) #List storing norms of ||x_k - x_{k+1}||\n",
    "    iter_list = np.zeros(maxIter)  #List of number of iterations 0,1,2,...,maxiter    \n",
    "    \n",
    "    for n in range(0, maxIter):\n",
    "        x0 = x1\n",
    "        J = DF(x0)\n",
    "        Fx = F(x0)\n",
    "        x1 = x1 - np.linalg.solve(J,Fx)\n",
    "        \n",
    "        two_Fx = np.linalg.norm(Fx)  \n",
    "        two_diff = np.linalg.norm(x1-x0)\n",
    "        #print(two_Fx)\n",
    "        \n",
    "        norm_listFx[n]=two_Fx #storing 2 norm for F(x)\n",
    "        norm_listDiff[n]=two_diff #storing 2 norm for difference of iterations \n",
    "        iter_list[n]=n\n",
    "        \n",
    "        if two_Fx<=TOL or two_diff<=TOL:\n",
    "            print('Reached tolerance after',n,'iterations')\n",
    "            maxIter = n\n",
    "            break\n",
    "    \n",
    "    \n",
    "    norm_listDiff = np.resize(norm_listDiff,maxIter)\n",
    "    norm_listFx = np.resize(norm_listFx,maxIter)\n",
    "    iter_list = np.resize(iter_list,maxIter)\n",
    "    \n",
    "    \n",
    "    \n",
    "    #Plotting the norms\n",
    "    if plotvar == True:\n",
    "        fig = plt.figure()\n",
    "        ax = plt.subplot(111)\n",
    "        ax.set(xlabel='Iteration number')\n",
    "        ax.plot(iter_list,norm_listFx,label='$||F(x^k)||_2$') #Fx plot\n",
    "        ax.plot(iter_list,norm_listDiff,label='$||x^k - x^{(k+1)}||_2$') #difference plot\n",
    "        ax.legend()\n",
    "        plt.grid()\n",
    "    \n",
    "        \n",
    "    return x1"
   ]
  },
  {
   "cell_type": "code",
   "execution_count": 3,
   "metadata": {
    "scrolled": true
   },
   "outputs": [
    {
     "name": "stdout",
     "output_type": "stream",
     "text": [
      "Reached tolerance after 8 iterations\n",
      "[-0.92828469  1.41421356]\n"
     ]
    },
    {
     "data": {
      "image/png": "[encoded data removed]",
      "text/plain": [
       "<Figure size 432x288 with 1 Axes>"
      ]
     },
     "metadata": {
      "needs_background": "light"
     },
     "output_type": "display_data"
    }
   ],
   "source": [
    "\n",
    "def test_func(q): #For some reason, the whole kernel needs to be restarted for test_func to work. g however, always works.\n",
    "    x,y = q\n",
    "    V = np.array([x**2-2*x -np.exp(1),y**2-2])\n",
    "    return V\n",
    "\n",
    "def g(r):\n",
    "    return r**2 - 2\n",
    "\n",
    "punkt=np.array([0.76,1.65],dtype=np.float_) \n",
    "\n",
    "\n",
    "\n",
    "sol = newtonsMethod(test_func,punkt,50,True)   \n",
    "print(sol)\n"
   ]
  },
  {
   "cell_type": "code",
   "execution_count": 4,
   "metadata": {},
   "outputs": [
    {
     "name": "stdout",
     "output_type": "stream",
     "text": [
      "0.67238170271397\n",
      "0.4095890064826082\n",
      "0.4918024078696237\n",
      "0.49993280575289806\n",
      "0.49999999548479496\n",
      "Reached tolerance after 5 iterations\n",
      "0.49999999999999994\n",
      "Reached tolerance after 5 iterations\n",
      "Reached tolerance after 5 iterations\n",
      "0.5000000000000001\n",
      "Reached tolerance after 5 iterations\n",
      "Reached tolerance after 5 iterations\n",
      "0.5000000000000001\n"
     ]
    }
   ],
   "source": [
    "# Quadratic convergence\n",
    "\n",
    "\n",
    "\n",
    "for l in range(0,8):\n",
    "    firstSol =np.linalg.norm( newtonsMethod(g,punkt,l,False) )\n",
    "    secondSol =np.linalg.norm( newtonsMethod(g,punkt,l+1,False) )\n",
    "    \n",
    "    print(secondSol/(firstSol**2))\n",
    "\n",
    "\n",
    "\n",
    "\n",
    "\n"
   ]
  },
  {
   "cell_type": "markdown",
   "metadata": {},
   "source": [
    "-----\n",
    "-----\n",
    "Using $g(x,y)=(x^2-2,y^2-2)$ as above where we know the solution to be $(\\sqrt{2},\\sqrt{2})$. And we see by the loop that the convergence\n",
    "\\begin{align}\n",
    "    \\lim_{k\\rightarrow\\infty} \\frac{e_{k+1}}{e_k} <0.51\n",
    "\\end{align}\n",
    "for the test funtion.\n",
    "\n",
    "-----\n",
    "-----"
   ]
  },
  {
   "cell_type": "markdown",
   "metadata": {},
   "source": [
    "## Linear systems\n",
    "\n",
    "Consider the linear system \n",
    "\t\\begin{equation*}\n",
    "\tA \\mathbf{u} = \\mathbf{f},\n",
    "\t\\end{equation*}\n",
    "where $A$ is a finite-difference discretization of the 2D Laplacian, this is a block tridiagonal matrix, implemented in the code below, and $\\mathbf{f}$ is the vector with all components equal to one."
   ]
  },
  {
   "cell_type": "code",
   "execution_count": 5,
   "metadata": {},
   "outputs": [
    {
     "name": "stdout",
     "output_type": "stream",
     "text": [
      "[[-4.  1.  0. ...  0.  0.  0.]\n",
      " [ 1. -4.  1. ...  0.  0.  0.]\n",
      " [ 0.  1. -4. ...  0.  0.  0.]\n",
      " ...\n",
      " [ 0.  0.  0. ... -4.  1.  0.]\n",
      " [ 0.  0.  0. ...  1. -4.  1.]\n",
      " [ 0.  0.  0. ...  0.  1. -4.]] , [1. 1. 1. 1. 1. 1. 1. 1. 1. 1. 1. 1. 1. 1. 1. 1. 1. 1. 1. 1. 1. 1. 1. 1.\n",
      " 1. 1. 1. 1. 1. 1. 1. 1. 1. 1. 1. 1. 1. 1. 1. 1. 1. 1. 1. 1. 1. 1. 1. 1.\n",
      " 1. 1. 1. 1. 1. 1. 1. 1. 1. 1. 1. 1. 1. 1. 1. 1. 1. 1. 1. 1. 1. 1. 1. 1.\n",
      " 1. 1. 1. 1. 1. 1. 1. 1. 1. 1. 1. 1. 1. 1. 1. 1. 1. 1. 1. 1. 1. 1. 1. 1.\n",
      " 1. 1. 1. 1.]\n"
     ]
    }
   ],
   "source": [
    "import numpy as np\n",
    "import matplotlib.pyplot as plt\n",
    "from scipy import sparse\n",
    "from scipy import linalg\n",
    "\n",
    "# Creating the 2D laplacian matrix\n",
    "nx, ny = 10, 10\n",
    "N  = nx*ny\n",
    "main_diag = np.ones(N)*-4.0\n",
    "side_diag = np.ones(N-1)\n",
    "side_diag[np.arange(1,N)%4==0] = 0\n",
    "up_down_diag = np.ones(N-3)\n",
    "diagonals = [main_diag,side_diag,side_diag,up_down_diag,up_down_diag]\n",
    "laplacian = sparse.diags(diagonals, [0, -1, 1,nx,-nx])\n",
    "\n",
    "\n",
    "\n",
    "#Global variables\n",
    "Lap = laplacian*np.eye(N)   #Matrix A\n",
    "f = np.ones(N) #One-vector\n",
    "guess = np.zeros(N)  #Initial guess\n",
    "\n",
    "TOL = 1e-7  #Global tolerance (will be changed later for time measurement)\n",
    "relax = 1.35 #Relaxation value for SOR-method\n",
    "\n",
    "print(Lap,',',f)"
   ]
  },
  {
   "cell_type": "markdown",
   "metadata": {},
   "source": [
    "We will now approximate the solution of this linear system using some different iteration methods of the type \n",
    "\t\\begin{equation*}\n",
    "\t\tA_1 \\mathbf{u}^{(k+1)} = A_2 \\mathbf{u}^{(k)}+\\mathbf{f},\n",
    "\t\\end{equation*}\n",
    "\twhere $A = A_1 - A_2$ with $|A_1|\\ne0$. The way we choose the matrices $A_1$ and $A_2$ depends upon the method. We will use the following iterative methods to calculate approximate solutions to $\\mathbf{u}$:\n",
    "\n",
    "a) Jacobi ($A_1 = A_d$).\n",
    "\n",
    "b) Forward Gauss-Seidel ($A_1 = A_d-A_l$).\n",
    "\n",
    "c) Successive over relaxation ( $A_1 = A_d-\\omega A_l$, where you can choose the value of $\\omega\\in (0,2)$ ).\n",
    "\n",
    "Here $A = A_d - A_l - A_u$, where\n",
    "\n",
    "- $A_d$ is the diagonal of $A$,\n",
    "- $A_l$ is $-$(strictly lower triangular part of $A$),\n",
    "- $A_u$ is $-$(strictly upper triangular part of $A$).\n",
    "\n",
    "Consider the residual vector $\\mathbf{r}^k:=\\mathbf{f}-A\\mathbf{u}^k$. We fix $nx=ny=10$ and $N=100$. For each of the above, you should:\n",
    "\n",
    "i) Compare the convergence of each method. Submit  a semi-log plot of the $2$-norm of the relative residual $\\frac{ \\|\\mathbf{r}^k\\|_2 }{ \\| \\mathbf{r}^0\\|_2 }$ versus the number of iterations. Plot all the methods in the same plot for comparison.\n",
    "Experiment choosing different values of $\\omega$ in the SOR method, try to find a value that gives you optimal convergence for this problem.\n"
   ]
  },
  {
   "cell_type": "code",
   "execution_count": 6,
   "metadata": {},
   "outputs": [],
   "source": [
    "# a) Jacobi method\n",
    "\n",
    "def jacobiMethod(A,b,u0,maxIter):\n",
    "    D = np.diag(A)*np.eye(N)   #Creating the Matrices\n",
    "    Dinv = np.linalg.inv(D)\n",
    "    R = A - D\n",
    "    u1 = u0\n",
    "    \n",
    "    time_list= np.zeros(maxIter)  #For counting iteration time\n",
    "    \n",
    "    \n",
    "    for i in range(maxIter):\n",
    "        start = time.perf_counter()\n",
    "        u1 = np.dot(Dinv,b) - np.dot(np.dot(Dinv,R),u0)\n",
    "        if np.linalg.norm(u0-u1)<=TOL:\n",
    "            #print('Reached tolerance after' , i , 'iterations')\n",
    "            return u1, i, time_list\n",
    "        else:\n",
    "            u0 = u1\n",
    "        end = time.perf_counter()\n",
    "        time_list[i] = end - start\n",
    "        \n",
    "    \n",
    "    return u1, maxIter, time_list\n",
    "\n",
    "\n",
    "\n",
    "#sol = jacobiMethod(Lap,f,guess,100)\n",
    "#print(np.dot(Lap,sol[0]),sol[1])\n",
    "\n",
    "    "
   ]
  },
  {
   "cell_type": "code",
   "execution_count": 7,
   "metadata": {},
   "outputs": [],
   "source": [
    "# b) Forward Gauss-Seidel Method\n",
    "\n",
    "def gaussSeidel(A,b,u0,maxIter):\n",
    "    #Creating the Matrices\n",
    "    L = np.tril(A) \n",
    "    U = np.triu(A) - np.diag(A)*np.eye(N)\n",
    "    Linv = np.linalg.inv(L)\n",
    "    \n",
    "    time_list=np.zeros(maxIter)\n",
    "    \n",
    "    u1 = u0\n",
    "    for i in range(maxIter):\n",
    "        start = time.perf_counter()\n",
    "        u1 = np.dot(Linv,b) - np.dot(np.dot(Linv,U),u0)\n",
    "        if np.linalg.norm(u0-u1)<=TOL:\n",
    "            #print('Reached tolerance after',i, 'iterations')\n",
    "            return u1 , i, time_list\n",
    "        else:\n",
    "            u0 = u1\n",
    "        end = time.perf_counter()\n",
    "        time_list[i] = end-start\n",
    "        \n",
    "    return u1 , maxIter, time_list\n",
    "\n",
    "\n",
    "\n",
    "\n",
    "#sol2 = gaussSeidel(Lap,f,guess,100)\n",
    "\n",
    "\n",
    "\n",
    "    "
   ]
  },
  {
   "cell_type": "code",
   "execution_count": 8,
   "metadata": {},
   "outputs": [
    {
     "name": "stdout",
     "output_type": "stream",
     "text": [
      "The minimum value for relative residual is at position [33] in val, with relaxation value [1.34693878]\n"
     ]
    }
   ],
   "source": [
    "# c) Successive over-relaxation\n",
    "\n",
    "def sorMethod(A,b,u0,w,maxIter):\n",
    "    #Creating the Matrices\n",
    "    D = np.diag(A)*np.eye(N)\n",
    "    U = np.triu(A) - D\n",
    "    L = np.tril(A,-1)\n",
    "    DwL = np.linalg.inv(D + w*L)\n",
    "    \n",
    "    time_list = np.zeros(maxIter)\n",
    "    \n",
    "    u1 = u0\n",
    "    \n",
    "    for i in range(maxIter):\n",
    "        start = time.perf_counter()\n",
    "        u1 = np.dot(DwL,w*b - np.dot((w*U + (w-1)*D) , u0))\n",
    "        if np.linalg.norm(u0-u1) <= TOL:\n",
    "            #print('Reached tolerance after',i,'iterations at relaxation value',w)\n",
    "            return u1, i, time_list\n",
    "        else:\n",
    "            u0 = u1\n",
    "        end = time.perf_counter()\n",
    "        time_list[i] = end - start\n",
    "\n",
    "    return u1, maxIter, time_list\n",
    " \n",
    "    \n",
    " \n",
    "    \n",
    "    \n",
    "#print(sorMethod(Lap,f,guess,1.22,100)[2])\n",
    "val = np.linspace(0,2) #Interval from 0 to 2\n",
    "rel_sol =np.zeros(len(val))\n",
    "for j in range(len(val)):\n",
    "    rel_sol[j] = np.linalg.norm(f - np.dot(Lap,sorMethod(Lap,f,guess,val[j],40)[0]))\n",
    "pos = np.where(rel_sol == np.amin(rel_sol))[0]\n",
    "print('The minimum value for relative residual is at position',pos,'in val, with relaxation value',val[pos])\n",
    "\n",
    "\n"
   ]
  },
  {
   "cell_type": "markdown",
   "metadata": {},
   "source": [
    "Optimal relaxation value seems to be $\\approx 1.35$"
   ]
  },
  {
   "cell_type": "code",
   "execution_count": 9,
   "metadata": {},
   "outputs": [
    {
     "data": {
      "text/plain": [
       "(0.8650653069903427, 0.7528102222269992, 0.4959467191635071)"
      ]
     },
     "execution_count": 9,
     "metadata": {},
     "output_type": "execute_result"
    },
    {
     "data": {
      "image/png": "[encoded data removed]",
      "text/plain": [
       "<Figure size 432x288 with 1 Axes>"
      ]
     },
     "metadata": {
      "needs_background": "light"
     },
     "output_type": "display_data"
    }
   ],
   "source": [
    "# Task i)\n",
    "\n",
    "TOL = 1e-14\n",
    "\n",
    "def plot_residual(M):  #Plotting the relative residual, returns the convergence speed ||x^(k+1)-L||/||x^k-L||\n",
    "    iter_number = np.arange(M)\n",
    "    rel_jac = np.zeros(M)\n",
    "    rel_FGS = np.zeros(M)\n",
    "    rel_sor = np.zeros(M)\n",
    "    \n",
    "    r0 = f - np.dot(Lap,guess)\n",
    "    \n",
    "    for k in iter_number:\n",
    "        r_jac = f - np.dot(Lap,jacobiMethod(Lap,f,guess,k)[0])   #r^k = f-Au^k\n",
    "        r_FGS = f - np.dot(Lap,gaussSeidel(Lap,f,guess,k)[0])\n",
    "        r_sor = f - np.dot(Lap,sorMethod(Lap,f,guess,relax,k)[0])\n",
    "        \n",
    "        rel_jac[k] = np.linalg.norm(r_jac) / np.linalg.norm(r0)  #||r^k||/||r^0||\n",
    "        rel_FGS[k] = np.linalg.norm(r_FGS) / np.linalg.norm(r0)\n",
    "        rel_sor[k] = np.linalg.norm(r_sor) / np.linalg.norm(r0)\n",
    "        \n",
    "        \n",
    "        \n",
    "    \n",
    "    \n",
    "    \n",
    "    \n",
    "    fig = plt.figure()\n",
    "    ax = plt.subplot(111)\n",
    "    ax.set(title='Convergence of the methods',xlabel='Iteration number',ylabel='Relative residual norm')\n",
    "    ax.semilogy(iter_number, rel_jac, label='Jacobi')\n",
    "    ax.semilogy(iter_number,rel_FGS,label='FGS')\n",
    "    ax.semilogy(iter_number,rel_sor,label='SOR')\n",
    "    ax.legend()\n",
    "    plt.grid()\n",
    "    \n",
    "    return rel_jac[-1]/rel_jac[-2],rel_FGS[-1]/rel_FGS[-2],rel_sor[-1]/rel_sor[-2]  \n",
    "\n",
    "plot_residual(45)\n",
    "\n",
    "\n",
    "\n",
    "\n",
    "\n",
    "\n",
    "\n"
   ]
  },
  {
   "cell_type": "markdown",
   "metadata": {},
   "source": [
    "ii) Implement a stopping criterion for the three methods as you have done for the Newton method. Record the relative time each method takes per iteration, and the rime needed to obtain a norm of the relative residual below toleances  $TOL=1e-7$ and $TOL=1e-14$. Make a table with the results for each method."
   ]
  },
  {
   "cell_type": "code",
   "execution_count": 10,
   "metadata": {},
   "outputs": [
    {
     "name": "stdout",
     "output_type": "stream",
     "text": [
      "Method                         Total time to tolerance    Average time per iteration    Tolerance level\n",
      "---------------------------  -------------------------  ----------------------------  -----------------\n",
      "Jacobi Method                                0.0185427                   0.000157142              1e-07\n",
      "Forward Gauss-Seidel Method                  0.0062566                   9.93111e-05              1e-07\n",
      "Stress over relaxation                       0.002245                    8.63462e-05              1e-07\n"
     ]
    }
   ],
   "source": [
    "# Timing runtime\n",
    "\n",
    "TOL = 1e-7\n",
    "\n",
    "\n",
    "\n",
    "time_jac = jacobiMethod(Lap,f,guess,1000)[2]        \n",
    "iterNumb_jac = jacobiMethod(Lap,f,guess,1000)[1]\n",
    "time_FGS = gaussSeidel(Lap,f,guess,100)[2]\n",
    "iterNumb_FGS = gaussSeidel(Lap,f,guess,100)[1]\n",
    "time_sor = sorMethod(Lap,f,guess,relax,100)[2]\n",
    "iterNumb_sor = sorMethod(Lap,f,guess,relax,100)[1]\n",
    "\n",
    "table=[[\"Jacobi Method\",np.sum(time_jac),np.sum(time_jac)/iterNumb_jac,TOL],['Forward Gauss-Seidel Method',np.sum(time_FGS),\n",
    "np.sum(time_FGS)/iterNumb_FGS,TOL],[\"Stress over relaxation\",np.sum(time_sor),np.sum(time_sor)/iterNumb_sor,TOL]]\n",
    "\n",
    "print(tab.tabulate(table,headers = ['Method', 'Total time to tolerance','Average time per iteration','Tolerance level']))\n",
    "\n"
   ]
  },
  {
   "cell_type": "code",
   "execution_count": 11,
   "metadata": {},
   "outputs": [
    {
     "name": "stdout",
     "output_type": "stream",
     "text": [
      "Method                         Total time to tolerance    Average time per iteration    Tolerance level\n",
      "---------------------------  -------------------------  ----------------------------  -----------------\n",
      "Jacobi Method                                0.0364388                   0.000159121              1e-14\n",
      "Forward Gauss-Seidel Method                  0.0097452                   9.7452e-05               1e-14\n",
      "Stress over relaxation                       0.0037721                   8.02574e-05              1e-14\n"
     ]
    }
   ],
   "source": [
    "TOL=1e-14\n",
    "\n",
    "\n",
    "\n",
    "time_jac = jacobiMethod(Lap,f,guess,1000)[2]        \n",
    "iterNumb_jac = jacobiMethod(Lap,f,guess,1000)[1]\n",
    "time_FGS = gaussSeidel(Lap,f,guess,100)[2]\n",
    "iterNumb_FGS = gaussSeidel(Lap,f,guess,100)[1]\n",
    "time_sor = sorMethod(Lap,f,guess,relax,100)[2]\n",
    "iterNumb_sor = sorMethod(Lap,f,guess,relax,100)[1]\n",
    "\n",
    "\n",
    "\n",
    "\n",
    "table2 =[[\"Jacobi Method\",np.sum(time_jac),np.sum(time_jac)/iterNumb_jac,TOL],['Forward Gauss-Seidel Method',np.sum(time_FGS),\n",
    "np.sum(time_FGS)/iterNumb_FGS,TOL],[\"Stress over relaxation\",np.sum(time_sor),np.sum(time_sor)/iterNumb_sor,TOL]]\n",
    "\n",
    "\n",
    "print(tab.tabulate(table2,headers = ['Method', 'Total time to tolerance','Average time per iteration','Tolerance level']))\n",
    "\n"
   ]
  },
  {
   "cell_type": "markdown",
   "metadata": {},
   "source": [
    "iii) Calculate the spectral radius of $A_1^{-1}A_2$ and see how that relates to convergence of the method. Make a semi-log plot for comparison. \n",
    "\n",
    "<div class=\"alert alert-block alert-info\">\n",
    "<b>Hint:</b> Python's \n",
    "    <pre>numpy.linalg.eigvals(A)</pre>\n",
    "function returns the eigenvalues of $A$.\n",
    "</div>"
   ]
  },
  {
   "cell_type": "code",
   "execution_count": 12,
   "metadata": {},
   "outputs": [
    {
     "data": {
      "image/png": "[encoded data removed]",
      "text/plain": [
       "<Figure size 432x288 with 1 Axes>"
      ]
     },
     "metadata": {
      "needs_background": "light"
     },
     "output_type": "display_data"
    },
    {
     "data": {
      "image/png": "[encoded data removed]",
      "text/plain": [
       "<Figure size 432x288 with 1 Axes>"
      ]
     },
     "metadata": {
      "needs_background": "light"
     },
     "output_type": "display_data"
    },
    {
     "name": "stdout",
     "output_type": "stream",
     "text": [
      "We see that as spectral radius decreases we get faster convergence, as we expect.\n"
     ]
    }
   ],
   "source": [
    "# Specral radii  \n",
    "\n",
    "def printSpectral(A,w):  #Function that calculates the sprectral radii\n",
    "    D = np.diag(A)*np.eye(N)\n",
    "    U = np.triu(A) - D\n",
    "    L = np.tril(A,-1)\n",
    "    \n",
    "    A1_j = D\n",
    "    A2_j = A1_j - A\n",
    "    \n",
    "    Aj =np.abs( np.linalg.eigvals( np.dot( np.linalg.inv(A1_j), A2_j ) ) )\n",
    "    \n",
    "    A1_fgs = D + L\n",
    "    A2_fgs = A1_fgs - A\n",
    "    \n",
    "    Afgs = np.abs( np.linalg.eigvals( np.dot( np.linalg.inv(A1_fgs), A2_fgs ) ) )\n",
    "    \n",
    "    A1_sor = D + w*L\n",
    "    A2_sor = A1_sor - A\n",
    "    \n",
    "    Asor = np.abs( np.linalg.eigvals( np.dot( np.linalg.inv(A1_sor), A2_sor ) ) )\n",
    "    \n",
    "    \n",
    "    return np.amax(Aj),np.amax(Afgs),np.amax(Asor)\n",
    "\n",
    "\n",
    "#Plotting the 'limit' of rate of convergence versus the spectral radius\n",
    "\n",
    "\n",
    "specList = printSpectral(Lap,relax)\n",
    "relList = plot_residual(45)\n",
    "\n",
    "fig = plt.figure()\n",
    "ax = plt.subplot(111)\n",
    "ax.set(xlabel='Spectral radius',ylabel='(Numerical)Rate of convergence',title='Convergence relative to spectral radius')\n",
    "ax.semilogy(specList[0],relList[0],'bo',label='Jacobi')\n",
    "ax.semilogy(specList[1],relList[1],'o',label='FGS',color='orange')\n",
    "ax.semilogy(specList[2],relList[2],'go',label='SOR')\n",
    "plt.grid()\n",
    "ax.legend()\n",
    "plt.show()\n",
    "\n",
    "print('We see that as spectral radius decreases we get faster convergence, as we expect.')"
   ]
  }
 ],
 "metadata": {
  "kernelspec": {
   "display_name": "Python 3",
   "language": "python",
   "name": "python3"
  },
  "language_info": {
   "codemirror_mode": {
    "name": "ipython",
    "version": 3
   },
   "file_extension": ".py",
   "mimetype": "text/x-python",
   "name": "python",
   "nbconvert_exporter": "python",
   "pygments_lexer": "ipython3",
   "version": "3.7.3"
  }
 },
 "nbformat": 4,
 "nbformat_minor": 2
}
